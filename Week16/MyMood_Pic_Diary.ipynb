{
  "nbformat": 4,
  "nbformat_minor": 0,
  "metadata": {
    "colab": {
      "provenance": [],
      "authorship_tag": "ABX9TyOGEIgU3HgCyt9F87U9vX5l",
      "include_colab_link": true
    },
    "kernelspec": {
      "name": "python3",
      "display_name": "Python 3"
    },
    "language_info": {
      "name": "python"
    }
  },
  "cells": [
    {
      "cell_type": "markdown",
      "metadata": {
        "id": "view-in-github",
        "colab_type": "text"
      },
      "source": [
        "<a href=\"https://colab.research.google.com/github/hahaamg/Generative_AI/blob/main/Week16/MyMood_Pic_Diary.ipynb\" target=\"_parent\"><img src=\"https://colab.research.google.com/assets/colab-badge.svg\" alt=\"Open In Colab\"/></a>"
      ]
    },
    {
      "cell_type": "markdown",
      "source": [
        "## MyMood Pic Diary"
      ],
      "metadata": {
        "id": "c8xtUUc-9yvl"
      }
    },
    {
      "cell_type": "code",
      "execution_count": null,
      "metadata": {
        "collapsed": true,
        "id": "s5Kql3LU6SmS"
      },
      "outputs": [],
      "source": [
        "!pip install -U google-generativeai gradio pillow"
      ]
    },
    {
      "cell_type": "code",
      "source": [
        "import gradio as gr\n",
        "from google import genai\n",
        "from google.genai import types\n",
        "from PIL import Image\n",
        "from io import BytesIO\n",
        "import base64"
      ],
      "metadata": {
        "id": "md3XypcPG3YP"
      },
      "execution_count": 2,
      "outputs": []
    },
    {
      "cell_type": "markdown",
      "source": [
        "### Gemini API 設定"
      ],
      "metadata": {
        "id": "28tqZFYs-Dqi"
      }
    },
    {
      "cell_type": "code",
      "source": [
        "import os\n",
        "from google.colab import userdata\n",
        "from google import genai"
      ],
      "metadata": {
        "id": "ewHA8VdmqTS9"
      },
      "execution_count": 14,
      "outputs": []
    },
    {
      "cell_type": "code",
      "source": [
        "# 從 Colab Secrets 取得 API Key\n",
        "GEMINI_API_KEY = userdata.get('Gemini')\n",
        "\n",
        "# 配置 Gemini API\n",
        "client = genai.Client(api_key=GEMINI_API_KEY)"
      ],
      "metadata": {
        "id": "itqC411w99PZ"
      },
      "execution_count": 29,
      "outputs": []
    },
    {
      "cell_type": "markdown",
      "source": [
        "### 日記內容"
      ],
      "metadata": {
        "id": "NbglkmN7BSUv"
      }
    },
    {
      "cell_type": "code",
      "source": [
        "def diary_to_image(diary, weather, mood, category):\n",
        "    # 用 Gemini 文字模型總結日記\n",
        "    summary_prompt = f\"\"\"請根據以下日記內容，結合天氣、心情、分類，生成一段100-150字的溫暖日記總結：\n",
        "                            日記內容：{diary}\n",
        "                            天氣：{weather}\n",
        "                            心情：{mood}\n",
        "                            分類：{category}\n",
        "                        \"\"\"\n",
        "    summary_response = client.models.generate_content(\n",
        "        model=\"gemini-2.0-flash\",\n",
        "        contents=summary_prompt,\n",
        "        config=types.GenerateContentConfig(response_modalities=['TEXT'])\n",
        "    )\n",
        "    summary = summary_response.candidates[0].content.parts[0].text\n",
        "\n",
        "    translate_prompt = f\"請將以下內容翻譯成英文，並優化為適合生成插畫的 prompt：\\n{summary}\\n風格：chibi style, 3D cartoon, big head small body, soft lighting, colorful, adorable, stylized.\"\n",
        "    translate_response = client.models.generate_content(\n",
        "        model=\"gemini-2.0-flash\",\n",
        "        contents=translate_prompt,\n",
        "        config=types.GenerateContentConfig(response_modalities=['TEXT'])\n",
        "    )\n",
        "    image_prompt = translate_response.candidates[0].content.parts[0].text\n",
        "\n",
        "    # 用總結內容生成圖片\n",
        "    image_response = client.models.generate_content(\n",
        "        model=\"gemini-2.0-flash-preview-image-generation\",\n",
        "        contents=image_prompt,\n",
        "        config=types.GenerateContentConfig(response_modalities=['TEXT', 'IMAGE'])\n",
        "    )\n",
        "\n",
        "    # 解析 Gemini 回傳的圖片\n",
        "    image = None\n",
        "    for part in image_response.candidates[0].content.parts:\n",
        "        if getattr(part, \"inline_data\", None) is not None:\n",
        "            image = Image.open(BytesIO(part.inline_data.data))\n",
        "            break\n",
        "\n",
        "    return summary, image"
      ],
      "metadata": {
        "id": "479GwN_nBUOo"
      },
      "execution_count": 27,
      "outputs": []
    },
    {
      "cell_type": "code",
      "source": [
        "with gr.Blocks(theme=gr.themes.Soft(), title=\"AI 日記圖片生成工具\") as demo:\n",
        "    gr.HTML(\"\"\"\n",
        "    <div style=\"text-align:center; margin-bottom: 1.5em;\">\n",
        "        <h1 style=\"color:#6C63FF; font-weight:bold; margin-bottom:0.2em;\">📔 MyMood Pic Diary</h1>\n",
        "        <p style=\"font-size:1.1em; color:#444;\">輸入你的日記，選擇今日的天氣與心情，讓 AI 幫你總結並生成專屬插畫！</p>\n",
        "    </div>\n",
        "    \"\"\")\n",
        "\n",
        "    with gr.Row():\n",
        "        with gr.Column(scale=1):\n",
        "            diary = gr.Textbox(\n",
        "                label=\"📝 今日筆記\",\n",
        "                lines=8,\n",
        "                placeholder=\"請輸入今天的日記...\",\n",
        "                elem_id=\"diary-box\"\n",
        "            )\n",
        "            weather = gr.Dropdown(\n",
        "                label=\"🌤️ 今日天氣\",\n",
        "                choices=[\"晴天\", \"多雲\", \"陰天\", \"雨天\", \"雪天\", \"起風\"],\n",
        "                value=\"晴天\"\n",
        "            )\n",
        "            mood = gr.Dropdown(\n",
        "                label=\"😊 今日心情\",\n",
        "                choices=[\"開心\", \"平靜\", \"興奮\", \"放鬆\", \"思考\", \"憂鬱\", \"焦慮\", \"感動\"],\n",
        "                value=\"開心\"\n",
        "            )\n",
        "            category = gr.Dropdown(\n",
        "                label=\"🏷️ 日記分類\",\n",
        "                choices=[\"生活日常\", \"工作學習\", \"旅行遊記\", \"人際關係\", \"個人成長\", \"健康運動\", \"興趣愛好\"],\n",
        "                value=\"生活日常\"\n",
        "            )\n",
        "            btn = gr.Button(\"✨ 生成日記總結與插畫\", elem_id=\"generate-btn\")\n",
        "        with gr.Column(scale=1):\n",
        "            gr.Markdown(\"---\")\n",
        "            summary = gr.Textbox(\n",
        "                label=\"💡 AI 日記總結\",\n",
        "                lines=6,\n",
        "                interactive=False,\n",
        "                elem_id=\"summary-box\"\n",
        "            )\n",
        "            image = gr.Image(\n",
        "                label=\"🎨 AI 生成插畫\",\n",
        "                type=\"pil\",\n",
        "                elem_id=\"image-box\"\n",
        "            )\n",
        "\n",
        "    gr.Markdown(\n",
        "        \"<div style='text-align:center; color:#888; margin-top:2em;'>\"\n",
        "        \"© 2025 MyMood Pic Diary | Powered by Gemini & Gradio\"\n",
        "        \"</div>\"\n",
        "    )\n",
        "\n",
        "    btn.click(\n",
        "        diary_to_image,\n",
        "        inputs=[diary, weather, mood, category],\n",
        "        outputs=[summary, image]\n",
        "    )\n",
        "\n",
        "demo.launch(share=True, debug=True)\n",
        "# ...existing code..."
      ],
      "metadata": {
        "id": "5fONAPF2Hsct"
      },
      "execution_count": null,
      "outputs": []
    }
  ]
}